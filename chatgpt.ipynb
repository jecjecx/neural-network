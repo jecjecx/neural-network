{
  "nbformat": 4,
  "nbformat_minor": 0,
  "metadata": {
    "colab": {
      "provenance": []
    },
    "kernelspec": {
      "name": "python3",
      "display_name": "Python 3"
    },
    "language_info": {
      "name": "python"
    }
  },
  "cells": [
    {
      "cell_type": "code",
      "execution_count": 60,
      "metadata": {
        "id": "968a9UWaPqaT"
      },
      "outputs": [],
      "source": [
        "import tensorflow as tf\n",
        "import pandas as pd\n",
        "from sklearn.model_selection import train_test_split\n",
        "from sklearn.preprocessing import StandardScaler"
      ]
    },
    {
      "cell_type": "code",
      "source": [
        "def load_data(file_path):\n",
        "    df = pd.read_csv(file_path)\n",
        "    return df"
      ],
      "metadata": {
        "id": "5hkK9_09PzoJ"
      },
      "execution_count": 61,
      "outputs": []
    },
    {
      "cell_type": "code",
      "source": [
        "def preprocess_data(df):\n",
        "    # Separate features and labels\n",
        "    X = df.drop('class', axis=1).values\n",
        "    y = df['class'].values\n",
        "\n",
        "    # Split the data into training and testing sets\n",
        "    X_train, X_test, y_train, y_test = train_test_split(X, y, test_size=0.2, random_state=42)\n",
        "\n",
        "\n",
        "    # Standardize features\n",
        "    # scaler = StandardScaler()\n",
        "    # X_train = scaler.fit_transform(X_train)\n",
        "    # X_test = scaler.transform(X_test)\n",
        "\n",
        "    return X_train, X_test, y_train, y_test"
      ],
      "metadata": {
        "id": "fcVgtZxmQKmV"
      },
      "execution_count": 62,
      "outputs": []
    },
    {
      "cell_type": "code",
      "source": [
        "def build_model(input_shape):\n",
        "    model = tf.keras.models.Sequential([\n",
        "        tf.keras.layers.Dense(64, activation='relu', input_shape=input_shape),\n",
        "        tf.keras.layers.Dense(32, activation='relu'),\n",
        "        tf.keras.layers.Dense(1, activation='sigmoid')\n",
        "    ])\n",
        "    model.compile(optimizer='adam',\n",
        "                  loss='binary_crossentropy',\n",
        "                  metrics=['accuracy'])\n",
        "    return model"
      ],
      "metadata": {
        "id": "3kfwOiR9QLl9"
      },
      "execution_count": 63,
      "outputs": []
    },
    {
      "cell_type": "code",
      "source": [
        "def train_model(model, X_train, y_train, epochs=10, batch_size=32):\n",
        "    model.fit(X_train, y_train, epochs=epochs, batch_size=batch_size)"
      ],
      "metadata": {
        "id": "lOVv3r8sQN9d"
      },
      "execution_count": 64,
      "outputs": []
    },
    {
      "cell_type": "code",
      "source": [
        "def evaluate_model(model, X_test, y_test):\n",
        "    loss, accuracy = model.evaluate(X_test, y_test)\n",
        "    print(\"Test Loss:\", loss)\n",
        "    print(\"Test Accuracy:\", accuracy)"
      ],
      "metadata": {
        "id": "SxrANP4RQP82"
      },
      "execution_count": 65,
      "outputs": []
    },
    {
      "cell_type": "code",
      "source": [
        "\n",
        "    # Path to the CSV file\n",
        "    csv_file_path = 'data.csv'  # Change this to your CSV file path\n",
        "\n",
        "    # Load the data\n",
        "    df = load_data(\"malgenome.csv\")\n",
        "\n",
        "    # df.head()\n",
        "    df = df.replace(\"S\", 1)\n",
        "    df = df.replace(\"B\", 0)\n",
        "    df.head()\n",
        "\n",
        "    # Preprocess the data\n",
        "    X_train, X_test, y_train, y_test = preprocess_data(df)\n",
        "\n",
        "    print(X_train)\n",
        "\n",
        "    # Build the model\n",
        "    input_shape = (X_train.shape[1],)\n",
        "    model = build_model(input_shape)\n",
        "\n",
        "    # Train the model\n",
        "    train_model(model, X_train, y_train)\n",
        "\n",
        "    # Evaluate the model\n",
        "    evaluate_model(model, X_test, y_test)"
      ],
      "metadata": {
        "colab": {
          "base_uri": "https://localhost:8080/"
        },
        "id": "Pak0xe9dQRvt",
        "outputId": "8662c2cc-fed8-47d0-fc1d-72cae4e0a22e"
      },
      "execution_count": 66,
      "outputs": [
        {
          "output_type": "stream",
          "name": "stdout",
          "text": [
            "[[0 0 0 ... 0 0 0]\n",
            " [0 0 0 ... 0 0 0]\n",
            " [1 1 1 ... 0 0 0]\n",
            " ...\n",
            " [0 0 0 ... 0 0 0]\n",
            " [0 0 0 ... 0 0 0]\n",
            " [1 1 1 ... 0 0 0]]\n",
            "Epoch 1/10\n",
            "95/95 [==============================] - 1s 3ms/step - loss: 0.2441 - accuracy: 0.9161\n",
            "Epoch 2/10\n",
            "95/95 [==============================] - 0s 2ms/step - loss: 0.0579 - accuracy: 0.9868\n",
            "Epoch 3/10\n",
            "95/95 [==============================] - 0s 2ms/step - loss: 0.0315 - accuracy: 0.9931\n",
            "Epoch 4/10\n",
            "95/95 [==============================] - 0s 2ms/step - loss: 0.0186 - accuracy: 0.9951\n",
            "Epoch 5/10\n",
            "95/95 [==============================] - 0s 2ms/step - loss: 0.0118 - accuracy: 0.9967\n",
            "Epoch 6/10\n",
            "95/95 [==============================] - 0s 2ms/step - loss: 0.0081 - accuracy: 0.9984\n",
            "Epoch 7/10\n",
            "95/95 [==============================] - 0s 2ms/step - loss: 0.0064 - accuracy: 0.9987\n",
            "Epoch 8/10\n",
            "95/95 [==============================] - 0s 2ms/step - loss: 0.0044 - accuracy: 0.9987\n",
            "Epoch 9/10\n",
            "95/95 [==============================] - 0s 2ms/step - loss: 0.0028 - accuracy: 0.9997\n",
            "Epoch 10/10\n",
            "95/95 [==============================] - 0s 2ms/step - loss: 0.0020 - accuracy: 0.9997\n",
            "24/24 [==============================] - 0s 2ms/step - loss: 0.0313 - accuracy: 0.9947\n",
            "Test Loss: 0.03129643574357033\n",
            "Test Accuracy: 0.9947368502616882\n"
          ]
        }
      ]
    },
    {
      "cell_type": "code",
      "source": [
        "from google.colab import data_table\n",
        "from vega_datasets import data"
      ],
      "metadata": {
        "id": "grNwGDUBFUoE"
      },
      "execution_count": 67,
      "outputs": []
    },
    {
      "cell_type": "code",
      "source": [
        "data_table.disable_dataframe_formatter()"
      ],
      "metadata": {
        "id": "YPLojfhDgs-1"
      },
      "execution_count": 68,
      "outputs": []
    },
    {
      "cell_type": "code",
      "source": [
        "model.save('my_model.h5')"
      ],
      "metadata": {
        "colab": {
          "base_uri": "https://localhost:8080/"
        },
        "id": "KE_d9deGn-O4",
        "outputId": "bde6c497-6e15-4f6f-b3c1-9019edee102c"
      },
      "execution_count": 69,
      "outputs": [
        {
          "output_type": "stream",
          "name": "stderr",
          "text": [
            "/usr/local/lib/python3.10/dist-packages/keras/src/engine/training.py:3103: UserWarning: You are saving your model as an HDF5 file via `model.save()`. This file format is considered legacy. We recommend using instead the native Keras format, e.g. `model.save('my_model.keras')`.\n",
            "  saving_api.save_model(\n"
          ]
        }
      ]
    },
    {
      "cell_type": "code",
      "source": [
        "from google.colab import files\n",
        "files.download('my_model.h5')"
      ],
      "metadata": {
        "colab": {
          "base_uri": "https://localhost:8080/",
          "height": 17
        },
        "id": "QhxeCPFLgtph",
        "outputId": "61eb14b2-5186-40dd-d3bf-def4fda2d41b"
      },
      "execution_count": 70,
      "outputs": [
        {
          "output_type": "display_data",
          "data": {
            "text/plain": [
              "<IPython.core.display.Javascript object>"
            ],
            "application/javascript": [
              "\n",
              "    async function download(id, filename, size) {\n",
              "      if (!google.colab.kernel.accessAllowed) {\n",
              "        return;\n",
              "      }\n",
              "      const div = document.createElement('div');\n",
              "      const label = document.createElement('label');\n",
              "      label.textContent = `Downloading \"${filename}\": `;\n",
              "      div.appendChild(label);\n",
              "      const progress = document.createElement('progress');\n",
              "      progress.max = size;\n",
              "      div.appendChild(progress);\n",
              "      document.body.appendChild(div);\n",
              "\n",
              "      const buffers = [];\n",
              "      let downloaded = 0;\n",
              "\n",
              "      const channel = await google.colab.kernel.comms.open(id);\n",
              "      // Send a message to notify the kernel that we're ready.\n",
              "      channel.send({})\n",
              "\n",
              "      for await (const message of channel.messages) {\n",
              "        // Send a message to notify the kernel that we're ready.\n",
              "        channel.send({})\n",
              "        if (message.buffers) {\n",
              "          for (const buffer of message.buffers) {\n",
              "            buffers.push(buffer);\n",
              "            downloaded += buffer.byteLength;\n",
              "            progress.value = downloaded;\n",
              "          }\n",
              "        }\n",
              "      }\n",
              "      const blob = new Blob(buffers, {type: 'application/binary'});\n",
              "      const a = document.createElement('a');\n",
              "      a.href = window.URL.createObjectURL(blob);\n",
              "      a.download = filename;\n",
              "      div.appendChild(a);\n",
              "      a.click();\n",
              "      div.remove();\n",
              "    }\n",
              "  "
            ]
          },
          "metadata": {}
        },
        {
          "output_type": "display_data",
          "data": {
            "text/plain": [
              "<IPython.core.display.Javascript object>"
            ],
            "application/javascript": [
              "download(\"download_f694be6e-1be6-4452-b630-4f1676a24025\", \"my_model.h5\", 222104)"
            ]
          },
          "metadata": {}
        }
      ]
    }
  ]
}